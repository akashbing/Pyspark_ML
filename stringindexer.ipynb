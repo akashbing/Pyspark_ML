{
 "cells": [
  {
   "cell_type": "code",
   "execution_count": 17,
   "metadata": {
    "collapsed": true
   },
   "outputs": [],
   "source": [
    "from pyspark.sql import SparkSession\n",
    "from pyspark import SparkContext, SparkConf\n",
    "from pyspark.ml.feature import OneHotEncoder, StringIndexer, VectorAssembler \n",
    "from pyspark.ml.linalg import Vectors\n",
    "\n",
    "\n",
    "spark = SparkSession \\\n",
    "    .builder \\\n",
    "    .appName(\"Python Spark ML example\") \\\n",
    "    .getOrCreate()\n",
    "\n",
    "ad_data= spark\\\n",
    ".read\\\n",
    ".option(\"inferSchema\", \"true\")\\\n",
    ".option(\"header\", \"true\")\\\n",
    ".csv(\"adult5.csv\")\n",
    "ad_data.createOrReplaceTempView(\"adult\")\n",
    "dataset = spark.table(\"adult\")\n",
    "cols = dataset.columns"
   ]
  },
  {
   "cell_type": "markdown",
   "metadata": {},
   "source": [
    "spark string indexer for converting numerical features into numerical features."
   ]
  },
  {
   "cell_type": "raw",
   "metadata": {},
   "source": [
    " StringIndexer converts string column of labels to column of label indices\n",
    "Example : convert age column(age) into age_index"
   ]
  },
  {
   "cell_type": "code",
   "execution_count": 20,
   "metadata": {
    "scrolled": true
   },
   "outputs": [
    {
     "name": "stdout",
     "output_type": "stream",
     "text": [
      "+---+---------+\n",
      "|age|age_Index|\n",
      "+---+---------+\n",
      "| 39|     23.0|\n",
      "| 50|     17.0|\n",
      "| 38|     26.0|\n",
      "| 53|      4.0|\n",
      "| 28|     14.0|\n",
      "| 37|      5.0|\n",
      "| 49|      2.0|\n",
      "| 52|     28.0|\n",
      "| 31|      3.0|\n",
      "| 42|     25.0|\n",
      "| 37|      5.0|\n",
      "| 30|      0.0|\n",
      "| 23|     10.0|\n",
      "| 32|     12.0|\n",
      "| 40|     11.0|\n",
      "| 34|     15.0|\n",
      "| 25|      7.0|\n",
      "| 32|     12.0|\n",
      "| 38|     26.0|\n",
      "| 43|      6.0|\n",
      "+---+---------+\n",
      "only showing top 20 rows\n",
      "\n"
     ]
    }
   ],
   "source": [
    "indexer_age = StringIndexer(inputCol=\"age\", outputCol=\"age_Index\")\n",
    "indexed = indexer_age.fit(dataset).transform(dataset)\n",
    "indexed.select(\"age\",\"age_Index\").show()"
   ]
  },
  {
   "cell_type": "markdown",
   "metadata": {},
   "source": [
    "StringIndexer converts string column of labels to column of label indices\n",
    "Example : convert workclass column(_c1) into workclass_index"
   ]
  },
  {
   "cell_type": "code",
   "execution_count": 21,
   "metadata": {},
   "outputs": [
    {
     "name": "stdout",
     "output_type": "stream",
     "text": [
      "+-----------------+---------------+\n",
      "|        workclass|workclass_Index|\n",
      "+-----------------+---------------+\n",
      "|        State-gov|            5.0|\n",
      "| Self-emp-not-inc|            1.0|\n",
      "|          Private|            0.0|\n",
      "|          Private|            0.0|\n",
      "|          Private|            0.0|\n",
      "|          Private|            0.0|\n",
      "|          Private|            0.0|\n",
      "| Self-emp-not-inc|            1.0|\n",
      "|          Private|            0.0|\n",
      "|          Private|            0.0|\n",
      "|          Private|            0.0|\n",
      "|        State-gov|            5.0|\n",
      "|          Private|            0.0|\n",
      "|          Private|            0.0|\n",
      "|          Private|            0.0|\n",
      "|          Private|            0.0|\n",
      "| Self-emp-not-inc|            1.0|\n",
      "|          Private|            0.0|\n",
      "|          Private|            0.0|\n",
      "| Self-emp-not-inc|            1.0|\n",
      "+-----------------+---------------+\n",
      "only showing top 20 rows\n",
      "\n"
     ]
    }
   ],
   "source": [
    "indexer_wc = StringIndexer(inputCol=\"workclass\", outputCol=\"workclass_Index\")\n",
    "indexed = indexer_wc.fit(dataset).transform(dataset)\n",
    "indexed.select(\"workclass\",\"workclass_Index\").show()"
   ]
  },
  {
   "cell_type": "markdown",
   "metadata": {},
   "source": [
    "Example : convert income column(_c2) into workclass_index"
   ]
  },
  {
   "cell_type": "code",
   "execution_count": 22,
   "metadata": {},
   "outputs": [
    {
     "name": "stdout",
     "output_type": "stream",
     "text": [
      "+------+------------+\n",
      "|income|income_Index|\n",
      "+------+------------+\n",
      "| <=50K|         0.0|\n",
      "| <=50K|         0.0|\n",
      "| <=50K|         0.0|\n",
      "| <=50K|         0.0|\n",
      "| <=50K|         0.0|\n",
      "| <=50K|         0.0|\n",
      "| <=50K|         0.0|\n",
      "|  >50K|         1.0|\n",
      "|  >50K|         1.0|\n",
      "|  >50K|         1.0|\n",
      "|  >50K|         1.0|\n",
      "|  >50K|         1.0|\n",
      "| <=50K|         0.0|\n",
      "| <=50K|         0.0|\n",
      "|  >50K|         1.0|\n",
      "| <=50K|         0.0|\n",
      "| <=50K|         0.0|\n",
      "| <=50K|         0.0|\n",
      "| <=50K|         0.0|\n",
      "|  >50K|         1.0|\n",
      "+------+------------+\n",
      "only showing top 20 rows\n",
      "\n"
     ]
    }
   ],
   "source": [
    "indexer_income = StringIndexer(inputCol=\"income\", outputCol=\"income_Index\")\n",
    "indexed = indexer_income.fit(dataset).transform(dataset)\n",
    "indexed.select(\"income\",\"income_Index\").show()"
   ]
  }
 ],
 "metadata": {
  "anaconda-cloud": {},
  "kernelspec": {
   "display_name": "Python 3",
   "language": "python",
   "name": "python3"
  },
  "language_info": {
   "codemirror_mode": {
    "name": "ipython",
    "version": 3
   },
   "file_extension": ".py",
   "mimetype": "text/x-python",
   "name": "python",
   "nbconvert_exporter": "python",
   "pygments_lexer": "ipython3",
   "version": "3.6.3"
  }
 },
 "nbformat": 4,
 "nbformat_minor": 1
}
